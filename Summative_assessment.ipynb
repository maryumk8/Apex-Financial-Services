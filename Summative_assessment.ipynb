{
  "nbformat": 4,
  "nbformat_minor": 0,
  "metadata": {
    "colab": {
      "provenance": [],
      "collapsed_sections": [
        "UAfVKAp45Och"
      ],
      "include_colab_link": true
    },
    "kernelspec": {
      "name": "python3",
      "display_name": "Python 3"
    },
    "language_info": {
      "name": "python"
    }
  },
  "cells": [
    {
      "cell_type": "markdown",
      "metadata": {
        "id": "view-in-github",
        "colab_type": "text"
      },
      "source": [
        "<a href=\"https://colab.research.google.com/github/maryumk8/Python_Summative/blob/main/Summative_assessment.ipynb\" target=\"_parent\"><img src=\"https://colab.research.google.com/assets/colab-badge.svg\" alt=\"Open In Colab\"/></a>"
      ]
    },
    {
      "cell_type": "markdown",
      "source": [
        "# Task 1"
      ],
      "metadata": {
        "id": "UAfVKAp45Och"
      }
    },
    {
      "cell_type": "markdown",
      "source": [
        "**Mount Google Drive**"
      ],
      "metadata": {
        "id": "xi0NWu35tm58"
      }
    },
    {
      "cell_type": "code",
      "source": [
        "#Importing the drive module\n",
        "from google.colab import drive\n",
        "\n",
        "# Mount Google Drive to access files from it\n",
        "drive.mount('/content/drive')\n"
      ],
      "metadata": {
        "colab": {
          "base_uri": "https://localhost:8080/"
        },
        "id": "L8vcVTT0cEPM",
        "outputId": "2a5edbb1-fbcc-4ccb-eb2a-d1c2580c1169"
      },
      "execution_count": null,
      "outputs": [
        {
          "output_type": "stream",
          "name": "stdout",
          "text": [
            "Drive already mounted at /content/drive; to attempt to forcibly remount, call drive.mount(\"/content/drive\", force_remount=True).\n"
          ]
        }
      ]
    },
    {
      "cell_type": "markdown",
      "source": [
        "**Install Libraries**"
      ],
      "metadata": {
        "id": "I0hfCpjGtzhe"
      }
    },
    {
      "cell_type": "code",
      "source": [
        "#Pip command to install pandas and tabula libraries\n",
        "!pip install pandas tabula-py\n"
      ],
      "metadata": {
        "colab": {
          "base_uri": "https://localhost:8080/"
        },
        "id": "_alHgiT6tVuF",
        "outputId": "b0fe1273-5fd5-4733-d503-2196b628a332"
      },
      "execution_count": null,
      "outputs": [
        {
          "output_type": "stream",
          "name": "stdout",
          "text": [
            "Requirement already satisfied: pandas in /usr/local/lib/python3.10/dist-packages (2.0.3)\n",
            "Requirement already satisfied: tabula-py in /usr/local/lib/python3.10/dist-packages (2.9.3)\n",
            "Requirement already satisfied: python-dateutil>=2.8.2 in /usr/local/lib/python3.10/dist-packages (from pandas) (2.8.2)\n",
            "Requirement already satisfied: pytz>=2020.1 in /usr/local/lib/python3.10/dist-packages (from pandas) (2023.4)\n",
            "Requirement already satisfied: tzdata>=2022.1 in /usr/local/lib/python3.10/dist-packages (from pandas) (2024.1)\n",
            "Requirement already satisfied: numpy>=1.21.0 in /usr/local/lib/python3.10/dist-packages (from pandas) (1.25.2)\n",
            "Requirement already satisfied: distro in /usr/lib/python3/dist-packages (from tabula-py) (1.7.0)\n",
            "Requirement already satisfied: six>=1.5 in /usr/local/lib/python3.10/dist-packages (from python-dateutil>=2.8.2->pandas) (1.16.0)\n"
          ]
        }
      ]
    },
    {
      "cell_type": "markdown",
      "source": [
        "**Import Libraries**"
      ],
      "metadata": {
        "id": "wGFJTPhAt6ri"
      }
    },
    {
      "cell_type": "code",
      "source": [
        "#Import tabula and pandas libraries and aliasing pandas as pd\n",
        "import pandas as pd\n",
        "import tabula\n",
        "import numpy as np\n",
        "\n"
      ],
      "metadata": {
        "id": "SFGw8bz5t366"
      },
      "execution_count": null,
      "outputs": []
    },
    {
      "cell_type": "markdown",
      "source": [
        "**Load Excel Data**"
      ],
      "metadata": {
        "id": "21HZRJvBuoxf"
      }
    },
    {
      "cell_type": "code",
      "source": [
        "#Loading excel data into a dataFrame\n",
        "excel_data = pd.read_excel('/content/drive/MyDrive/Python_dataset/APEX Loan Data (3).xlsx')"
      ],
      "metadata": {
        "id": "qW0j0uadbwM9"
      },
      "execution_count": null,
      "outputs": []
    },
    {
      "cell_type": "markdown",
      "source": [
        "**Extract Tables from PDF**"
      ],
      "metadata": {
        "id": "sAHnX0J_u3li"
      }
    },
    {
      "cell_type": "code",
      "source": [
        "# Read PDF tables into a list of DataFrames\n",
        "pdf_data = tabula.read_pdf('/content/drive/MyDrive/Python_dataset/APEX_Loans_Database_Table (3).pdf', output_format='dataframe', pages=\"all\")"
      ],
      "metadata": {
        "id": "oTK-swHBkqSX"
      },
      "execution_count": null,
      "outputs": []
    },
    {
      "cell_type": "markdown",
      "source": [
        "**Concatenate Dataframes**"
      ],
      "metadata": {
        "id": "8us6Y_zE2b-k"
      }
    },
    {
      "cell_type": "code",
      "source": [
        "combined_df = pd.concat([pdf_data[0], excel_data], ignore_index=True)\n",
        "\n",
        "# Mapping dictionaries\n",
        "mappings = {\n",
        "    'Gender': {1: 'Male', 2: 'Female'},\n",
        "    'Married': {0: 'Single', 1: 'Married'},\n",
        "    'Dependents': {0: '0', 1: '1', 2: '2', 3: '3+'},\n",
        "    'Graduate': {0: 'No', 1: 'Yes'},\n",
        "    'Self_Employed': {0: 'No', 1: 'Yes'},\n",
        "    'Credit_History': {0: 'No', 1: 'Yes'},\n",
        "    'Property_Area': {1: 'Urban', 2: 'Semiurban', 3: 'Rural'}\n",
        "}\n",
        "\n",
        "# Apply mappings using a loop\n",
        "for column, mapping in mappings.items():\n",
        "    combined_df[column] = combined_df[column].map(mapping)\n",
        "\n",
        "combined_df\n"
      ],
      "metadata": {
        "colab": {
          "base_uri": "https://localhost:8080/",
          "height": 444
        },
        "id": "VRBmmKhe2RjO",
        "outputId": "38e11dd8-5cd3-4494-aeb2-e787b0d0cf47"
      },
      "execution_count": null,
      "outputs": [
        {
          "output_type": "execute_result",
          "data": {
            "text/plain": [
              "     Loan_ID  Gender  Married Dependents Graduate Self_Employed  \\\n",
              "0       1002    Male   Single          0      Yes            No   \n",
              "1       1003    Male  Married          1      Yes            No   \n",
              "2       1005    Male  Married          0      Yes           Yes   \n",
              "3       1006    Male  Married          0       No            No   \n",
              "4       1008    Male   Single          0      Yes            No   \n",
              "..       ...     ...      ...        ...      ...           ...   \n",
              "640     2978  Female   Single          0      Yes            No   \n",
              "641     2979    Male  Married         3+      Yes            No   \n",
              "642     2983    Male  Married          1      Yes            No   \n",
              "643     2984    Male  Married          2      Yes            No   \n",
              "644     2990  Female   Single          0      Yes           Yes   \n",
              "\n",
              "     ApplicantIncome  CoapplicantIncome  LoanAmount  Loan_Amount_Term  \\\n",
              "0               5849                0.0         128               360   \n",
              "1               4583             1508.0         128               360   \n",
              "2               3000                0.0          66               360   \n",
              "3               2583             2358.0         120               360   \n",
              "4               6000                0.0         141               360   \n",
              "..               ...                ...         ...               ...   \n",
              "640             2900                0.0          71               333   \n",
              "641             4106                0.0          40               180   \n",
              "642             8072              240.0         253               333   \n",
              "643             7583                0.0         187               333   \n",
              "644             4583                0.0         133               333   \n",
              "\n",
              "    Credit_History Property_Area Loan_Status  \n",
              "0              Yes         Urban           Y  \n",
              "1              Yes         Rural           N  \n",
              "2              Yes         Urban           Y  \n",
              "3              Yes         Urban           Y  \n",
              "4              Yes         Urban           Y  \n",
              "..             ...           ...         ...  \n",
              "640            Yes         Rural           Y  \n",
              "641            Yes         Rural           Y  \n",
              "642            Yes         Urban           Y  \n",
              "643            Yes         Urban           Y  \n",
              "644             No     Semiurban           N  \n",
              "\n",
              "[645 rows x 13 columns]"
            ],
            "text/html": [
              "\n",
              "  <div id=\"df-34f570af-314b-4a70-957e-f8bde5691868\" class=\"colab-df-container\">\n",
              "    <div>\n",
              "<style scoped>\n",
              "    .dataframe tbody tr th:only-of-type {\n",
              "        vertical-align: middle;\n",
              "    }\n",
              "\n",
              "    .dataframe tbody tr th {\n",
              "        vertical-align: top;\n",
              "    }\n",
              "\n",
              "    .dataframe thead th {\n",
              "        text-align: right;\n",
              "    }\n",
              "</style>\n",
              "<table border=\"1\" class=\"dataframe\">\n",
              "  <thead>\n",
              "    <tr style=\"text-align: right;\">\n",
              "      <th></th>\n",
              "      <th>Loan_ID</th>\n",
              "      <th>Gender</th>\n",
              "      <th>Married</th>\n",
              "      <th>Dependents</th>\n",
              "      <th>Graduate</th>\n",
              "      <th>Self_Employed</th>\n",
              "      <th>ApplicantIncome</th>\n",
              "      <th>CoapplicantIncome</th>\n",
              "      <th>LoanAmount</th>\n",
              "      <th>Loan_Amount_Term</th>\n",
              "      <th>Credit_History</th>\n",
              "      <th>Property_Area</th>\n",
              "      <th>Loan_Status</th>\n",
              "    </tr>\n",
              "  </thead>\n",
              "  <tbody>\n",
              "    <tr>\n",
              "      <th>0</th>\n",
              "      <td>1002</td>\n",
              "      <td>Male</td>\n",
              "      <td>Single</td>\n",
              "      <td>0</td>\n",
              "      <td>Yes</td>\n",
              "      <td>No</td>\n",
              "      <td>5849</td>\n",
              "      <td>0.0</td>\n",
              "      <td>128</td>\n",
              "      <td>360</td>\n",
              "      <td>Yes</td>\n",
              "      <td>Urban</td>\n",
              "      <td>Y</td>\n",
              "    </tr>\n",
              "    <tr>\n",
              "      <th>1</th>\n",
              "      <td>1003</td>\n",
              "      <td>Male</td>\n",
              "      <td>Married</td>\n",
              "      <td>1</td>\n",
              "      <td>Yes</td>\n",
              "      <td>No</td>\n",
              "      <td>4583</td>\n",
              "      <td>1508.0</td>\n",
              "      <td>128</td>\n",
              "      <td>360</td>\n",
              "      <td>Yes</td>\n",
              "      <td>Rural</td>\n",
              "      <td>N</td>\n",
              "    </tr>\n",
              "    <tr>\n",
              "      <th>2</th>\n",
              "      <td>1005</td>\n",
              "      <td>Male</td>\n",
              "      <td>Married</td>\n",
              "      <td>0</td>\n",
              "      <td>Yes</td>\n",
              "      <td>Yes</td>\n",
              "      <td>3000</td>\n",
              "      <td>0.0</td>\n",
              "      <td>66</td>\n",
              "      <td>360</td>\n",
              "      <td>Yes</td>\n",
              "      <td>Urban</td>\n",
              "      <td>Y</td>\n",
              "    </tr>\n",
              "    <tr>\n",
              "      <th>3</th>\n",
              "      <td>1006</td>\n",
              "      <td>Male</td>\n",
              "      <td>Married</td>\n",
              "      <td>0</td>\n",
              "      <td>No</td>\n",
              "      <td>No</td>\n",
              "      <td>2583</td>\n",
              "      <td>2358.0</td>\n",
              "      <td>120</td>\n",
              "      <td>360</td>\n",
              "      <td>Yes</td>\n",
              "      <td>Urban</td>\n",
              "      <td>Y</td>\n",
              "    </tr>\n",
              "    <tr>\n",
              "      <th>4</th>\n",
              "      <td>1008</td>\n",
              "      <td>Male</td>\n",
              "      <td>Single</td>\n",
              "      <td>0</td>\n",
              "      <td>Yes</td>\n",
              "      <td>No</td>\n",
              "      <td>6000</td>\n",
              "      <td>0.0</td>\n",
              "      <td>141</td>\n",
              "      <td>360</td>\n",
              "      <td>Yes</td>\n",
              "      <td>Urban</td>\n",
              "      <td>Y</td>\n",
              "    </tr>\n",
              "    <tr>\n",
              "      <th>...</th>\n",
              "      <td>...</td>\n",
              "      <td>...</td>\n",
              "      <td>...</td>\n",
              "      <td>...</td>\n",
              "      <td>...</td>\n",
              "      <td>...</td>\n",
              "      <td>...</td>\n",
              "      <td>...</td>\n",
              "      <td>...</td>\n",
              "      <td>...</td>\n",
              "      <td>...</td>\n",
              "      <td>...</td>\n",
              "      <td>...</td>\n",
              "    </tr>\n",
              "    <tr>\n",
              "      <th>640</th>\n",
              "      <td>2978</td>\n",
              "      <td>Female</td>\n",
              "      <td>Single</td>\n",
              "      <td>0</td>\n",
              "      <td>Yes</td>\n",
              "      <td>No</td>\n",
              "      <td>2900</td>\n",
              "      <td>0.0</td>\n",
              "      <td>71</td>\n",
              "      <td>333</td>\n",
              "      <td>Yes</td>\n",
              "      <td>Rural</td>\n",
              "      <td>Y</td>\n",
              "    </tr>\n",
              "    <tr>\n",
              "      <th>641</th>\n",
              "      <td>2979</td>\n",
              "      <td>Male</td>\n",
              "      <td>Married</td>\n",
              "      <td>3+</td>\n",
              "      <td>Yes</td>\n",
              "      <td>No</td>\n",
              "      <td>4106</td>\n",
              "      <td>0.0</td>\n",
              "      <td>40</td>\n",
              "      <td>180</td>\n",
              "      <td>Yes</td>\n",
              "      <td>Rural</td>\n",
              "      <td>Y</td>\n",
              "    </tr>\n",
              "    <tr>\n",
              "      <th>642</th>\n",
              "      <td>2983</td>\n",
              "      <td>Male</td>\n",
              "      <td>Married</td>\n",
              "      <td>1</td>\n",
              "      <td>Yes</td>\n",
              "      <td>No</td>\n",
              "      <td>8072</td>\n",
              "      <td>240.0</td>\n",
              "      <td>253</td>\n",
              "      <td>333</td>\n",
              "      <td>Yes</td>\n",
              "      <td>Urban</td>\n",
              "      <td>Y</td>\n",
              "    </tr>\n",
              "    <tr>\n",
              "      <th>643</th>\n",
              "      <td>2984</td>\n",
              "      <td>Male</td>\n",
              "      <td>Married</td>\n",
              "      <td>2</td>\n",
              "      <td>Yes</td>\n",
              "      <td>No</td>\n",
              "      <td>7583</td>\n",
              "      <td>0.0</td>\n",
              "      <td>187</td>\n",
              "      <td>333</td>\n",
              "      <td>Yes</td>\n",
              "      <td>Urban</td>\n",
              "      <td>Y</td>\n",
              "    </tr>\n",
              "    <tr>\n",
              "      <th>644</th>\n",
              "      <td>2990</td>\n",
              "      <td>Female</td>\n",
              "      <td>Single</td>\n",
              "      <td>0</td>\n",
              "      <td>Yes</td>\n",
              "      <td>Yes</td>\n",
              "      <td>4583</td>\n",
              "      <td>0.0</td>\n",
              "      <td>133</td>\n",
              "      <td>333</td>\n",
              "      <td>No</td>\n",
              "      <td>Semiurban</td>\n",
              "      <td>N</td>\n",
              "    </tr>\n",
              "  </tbody>\n",
              "</table>\n",
              "<p>645 rows × 13 columns</p>\n",
              "</div>\n",
              "    <div class=\"colab-df-buttons\">\n",
              "\n",
              "  <div class=\"colab-df-container\">\n",
              "    <button class=\"colab-df-convert\" onclick=\"convertToInteractive('df-34f570af-314b-4a70-957e-f8bde5691868')\"\n",
              "            title=\"Convert this dataframe to an interactive table.\"\n",
              "            style=\"display:none;\">\n",
              "\n",
              "  <svg xmlns=\"http://www.w3.org/2000/svg\" height=\"24px\" viewBox=\"0 -960 960 960\">\n",
              "    <path d=\"M120-120v-720h720v720H120Zm60-500h600v-160H180v160Zm220 220h160v-160H400v160Zm0 220h160v-160H400v160ZM180-400h160v-160H180v160Zm440 0h160v-160H620v160ZM180-180h160v-160H180v160Zm440 0h160v-160H620v160Z\"/>\n",
              "  </svg>\n",
              "    </button>\n",
              "\n",
              "  <style>\n",
              "    .colab-df-container {\n",
              "      display:flex;\n",
              "      gap: 12px;\n",
              "    }\n",
              "\n",
              "    .colab-df-convert {\n",
              "      background-color: #E8F0FE;\n",
              "      border: none;\n",
              "      border-radius: 50%;\n",
              "      cursor: pointer;\n",
              "      display: none;\n",
              "      fill: #1967D2;\n",
              "      height: 32px;\n",
              "      padding: 0 0 0 0;\n",
              "      width: 32px;\n",
              "    }\n",
              "\n",
              "    .colab-df-convert:hover {\n",
              "      background-color: #E2EBFA;\n",
              "      box-shadow: 0px 1px 2px rgba(60, 64, 67, 0.3), 0px 1px 3px 1px rgba(60, 64, 67, 0.15);\n",
              "      fill: #174EA6;\n",
              "    }\n",
              "\n",
              "    .colab-df-buttons div {\n",
              "      margin-bottom: 4px;\n",
              "    }\n",
              "\n",
              "    [theme=dark] .colab-df-convert {\n",
              "      background-color: #3B4455;\n",
              "      fill: #D2E3FC;\n",
              "    }\n",
              "\n",
              "    [theme=dark] .colab-df-convert:hover {\n",
              "      background-color: #434B5C;\n",
              "      box-shadow: 0px 1px 3px 1px rgba(0, 0, 0, 0.15);\n",
              "      filter: drop-shadow(0px 1px 2px rgba(0, 0, 0, 0.3));\n",
              "      fill: #FFFFFF;\n",
              "    }\n",
              "  </style>\n",
              "\n",
              "    <script>\n",
              "      const buttonEl =\n",
              "        document.querySelector('#df-34f570af-314b-4a70-957e-f8bde5691868 button.colab-df-convert');\n",
              "      buttonEl.style.display =\n",
              "        google.colab.kernel.accessAllowed ? 'block' : 'none';\n",
              "\n",
              "      async function convertToInteractive(key) {\n",
              "        const element = document.querySelector('#df-34f570af-314b-4a70-957e-f8bde5691868');\n",
              "        const dataTable =\n",
              "          await google.colab.kernel.invokeFunction('convertToInteractive',\n",
              "                                                    [key], {});\n",
              "        if (!dataTable) return;\n",
              "\n",
              "        const docLinkHtml = 'Like what you see? Visit the ' +\n",
              "          '<a target=\"_blank\" href=https://colab.research.google.com/notebooks/data_table.ipynb>data table notebook</a>'\n",
              "          + ' to learn more about interactive tables.';\n",
              "        element.innerHTML = '';\n",
              "        dataTable['output_type'] = 'display_data';\n",
              "        await google.colab.output.renderOutput(dataTable, element);\n",
              "        const docLink = document.createElement('div');\n",
              "        docLink.innerHTML = docLinkHtml;\n",
              "        element.appendChild(docLink);\n",
              "      }\n",
              "    </script>\n",
              "  </div>\n",
              "\n",
              "\n",
              "<div id=\"df-059b7209-8687-4739-9313-7dade1cf3b54\">\n",
              "  <button class=\"colab-df-quickchart\" onclick=\"quickchart('df-059b7209-8687-4739-9313-7dade1cf3b54')\"\n",
              "            title=\"Suggest charts\"\n",
              "            style=\"display:none;\">\n",
              "\n",
              "<svg xmlns=\"http://www.w3.org/2000/svg\" height=\"24px\"viewBox=\"0 0 24 24\"\n",
              "     width=\"24px\">\n",
              "    <g>\n",
              "        <path d=\"M19 3H5c-1.1 0-2 .9-2 2v14c0 1.1.9 2 2 2h14c1.1 0 2-.9 2-2V5c0-1.1-.9-2-2-2zM9 17H7v-7h2v7zm4 0h-2V7h2v10zm4 0h-2v-4h2v4z\"/>\n",
              "    </g>\n",
              "</svg>\n",
              "  </button>\n",
              "\n",
              "<style>\n",
              "  .colab-df-quickchart {\n",
              "      --bg-color: #E8F0FE;\n",
              "      --fill-color: #1967D2;\n",
              "      --hover-bg-color: #E2EBFA;\n",
              "      --hover-fill-color: #174EA6;\n",
              "      --disabled-fill-color: #AAA;\n",
              "      --disabled-bg-color: #DDD;\n",
              "  }\n",
              "\n",
              "  [theme=dark] .colab-df-quickchart {\n",
              "      --bg-color: #3B4455;\n",
              "      --fill-color: #D2E3FC;\n",
              "      --hover-bg-color: #434B5C;\n",
              "      --hover-fill-color: #FFFFFF;\n",
              "      --disabled-bg-color: #3B4455;\n",
              "      --disabled-fill-color: #666;\n",
              "  }\n",
              "\n",
              "  .colab-df-quickchart {\n",
              "    background-color: var(--bg-color);\n",
              "    border: none;\n",
              "    border-radius: 50%;\n",
              "    cursor: pointer;\n",
              "    display: none;\n",
              "    fill: var(--fill-color);\n",
              "    height: 32px;\n",
              "    padding: 0;\n",
              "    width: 32px;\n",
              "  }\n",
              "\n",
              "  .colab-df-quickchart:hover {\n",
              "    background-color: var(--hover-bg-color);\n",
              "    box-shadow: 0 1px 2px rgba(60, 64, 67, 0.3), 0 1px 3px 1px rgba(60, 64, 67, 0.15);\n",
              "    fill: var(--button-hover-fill-color);\n",
              "  }\n",
              "\n",
              "  .colab-df-quickchart-complete:disabled,\n",
              "  .colab-df-quickchart-complete:disabled:hover {\n",
              "    background-color: var(--disabled-bg-color);\n",
              "    fill: var(--disabled-fill-color);\n",
              "    box-shadow: none;\n",
              "  }\n",
              "\n",
              "  .colab-df-spinner {\n",
              "    border: 2px solid var(--fill-color);\n",
              "    border-color: transparent;\n",
              "    border-bottom-color: var(--fill-color);\n",
              "    animation:\n",
              "      spin 1s steps(1) infinite;\n",
              "  }\n",
              "\n",
              "  @keyframes spin {\n",
              "    0% {\n",
              "      border-color: transparent;\n",
              "      border-bottom-color: var(--fill-color);\n",
              "      border-left-color: var(--fill-color);\n",
              "    }\n",
              "    20% {\n",
              "      border-color: transparent;\n",
              "      border-left-color: var(--fill-color);\n",
              "      border-top-color: var(--fill-color);\n",
              "    }\n",
              "    30% {\n",
              "      border-color: transparent;\n",
              "      border-left-color: var(--fill-color);\n",
              "      border-top-color: var(--fill-color);\n",
              "      border-right-color: var(--fill-color);\n",
              "    }\n",
              "    40% {\n",
              "      border-color: transparent;\n",
              "      border-right-color: var(--fill-color);\n",
              "      border-top-color: var(--fill-color);\n",
              "    }\n",
              "    60% {\n",
              "      border-color: transparent;\n",
              "      border-right-color: var(--fill-color);\n",
              "    }\n",
              "    80% {\n",
              "      border-color: transparent;\n",
              "      border-right-color: var(--fill-color);\n",
              "      border-bottom-color: var(--fill-color);\n",
              "    }\n",
              "    90% {\n",
              "      border-color: transparent;\n",
              "      border-bottom-color: var(--fill-color);\n",
              "    }\n",
              "  }\n",
              "</style>\n",
              "\n",
              "  <script>\n",
              "    async function quickchart(key) {\n",
              "      const quickchartButtonEl =\n",
              "        document.querySelector('#' + key + ' button');\n",
              "      quickchartButtonEl.disabled = true;  // To prevent multiple clicks.\n",
              "      quickchartButtonEl.classList.add('colab-df-spinner');\n",
              "      try {\n",
              "        const charts = await google.colab.kernel.invokeFunction(\n",
              "            'suggestCharts', [key], {});\n",
              "      } catch (error) {\n",
              "        console.error('Error during call to suggestCharts:', error);\n",
              "      }\n",
              "      quickchartButtonEl.classList.remove('colab-df-spinner');\n",
              "      quickchartButtonEl.classList.add('colab-df-quickchart-complete');\n",
              "    }\n",
              "    (() => {\n",
              "      let quickchartButtonEl =\n",
              "        document.querySelector('#df-059b7209-8687-4739-9313-7dade1cf3b54 button');\n",
              "      quickchartButtonEl.style.display =\n",
              "        google.colab.kernel.accessAllowed ? 'block' : 'none';\n",
              "    })();\n",
              "  </script>\n",
              "</div>\n",
              "    </div>\n",
              "  </div>\n"
            ],
            "application/vnd.google.colaboratory.intrinsic+json": {
              "type": "dataframe",
              "variable_name": "combined_df",
              "summary": "{\n  \"name\": \"combined_df\",\n  \"rows\": 645,\n  \"fields\": [\n    {\n      \"column\": \"Loan_ID\",\n      \"properties\": {\n        \"dtype\": \"number\",\n        \"std\": 553,\n        \"min\": 1002,\n        \"max\": 2990,\n        \"num_unique_values\": 614,\n        \"samples\": [\n          2139,\n          2223,\n          1570\n        ],\n        \"semantic_type\": \"\",\n        \"description\": \"\"\n      }\n    },\n    {\n      \"column\": \"Gender\",\n      \"properties\": {\n        \"dtype\": \"category\",\n        \"num_unique_values\": 2,\n        \"samples\": [\n          \"Female\",\n          \"Male\"\n        ],\n        \"semantic_type\": \"\",\n        \"description\": \"\"\n      }\n    },\n    {\n      \"column\": \"Married\",\n      \"properties\": {\n        \"dtype\": \"category\",\n        \"num_unique_values\": 2,\n        \"samples\": [\n          \"Married\",\n          \"Single\"\n        ],\n        \"semantic_type\": \"\",\n        \"description\": \"\"\n      }\n    },\n    {\n      \"column\": \"Dependents\",\n      \"properties\": {\n        \"dtype\": \"category\",\n        \"num_unique_values\": 4,\n        \"samples\": [\n          \"1\",\n          \"3+\"\n        ],\n        \"semantic_type\": \"\",\n        \"description\": \"\"\n      }\n    },\n    {\n      \"column\": \"Graduate\",\n      \"properties\": {\n        \"dtype\": \"category\",\n        \"num_unique_values\": 2,\n        \"samples\": [\n          \"No\",\n          \"Yes\"\n        ],\n        \"semantic_type\": \"\",\n        \"description\": \"\"\n      }\n    },\n    {\n      \"column\": \"Self_Employed\",\n      \"properties\": {\n        \"dtype\": \"category\",\n        \"num_unique_values\": 2,\n        \"samples\": [\n          \"Yes\",\n          \"No\"\n        ],\n        \"semantic_type\": \"\",\n        \"description\": \"\"\n      }\n    },\n    {\n      \"column\": \"ApplicantIncome\",\n      \"properties\": {\n        \"dtype\": \"number\",\n        \"std\": 6021,\n        \"min\": 150,\n        \"max\": 81000,\n        \"num_unique_values\": 505,\n        \"samples\": [\n          8333,\n          4342\n        ],\n        \"semantic_type\": \"\",\n        \"description\": \"\"\n      }\n    },\n    {\n      \"column\": \"CoapplicantIncome\",\n      \"properties\": {\n        \"dtype\": \"number\",\n        \"std\": 2867.004509647966,\n        \"min\": 0.0,\n        \"max\": 41667.0,\n        \"num_unique_values\": 288,\n        \"samples\": [\n          1774.0,\n          189.0\n        ],\n        \"semantic_type\": \"\",\n        \"description\": \"\"\n      }\n    },\n    {\n      \"column\": \"LoanAmount\",\n      \"properties\": {\n        \"dtype\": \"number\",\n        \"std\": 86,\n        \"min\": 9,\n        \"max\": 700,\n        \"num_unique_values\": 204,\n        \"samples\": [\n          100,\n          70\n        ],\n        \"semantic_type\": \"\",\n        \"description\": \"\"\n      }\n    },\n    {\n      \"column\": \"Loan_Amount_Term\",\n      \"properties\": {\n        \"dtype\": \"number\",\n        \"std\": 63,\n        \"min\": 12,\n        \"max\": 480,\n        \"num_unique_values\": 11,\n        \"samples\": [\n          300,\n          360\n        ],\n        \"semantic_type\": \"\",\n        \"description\": \"\"\n      }\n    },\n    {\n      \"column\": \"Credit_History\",\n      \"properties\": {\n        \"dtype\": \"category\",\n        \"num_unique_values\": 2,\n        \"samples\": [\n          \"No\",\n          \"Yes\"\n        ],\n        \"semantic_type\": \"\",\n        \"description\": \"\"\n      }\n    },\n    {\n      \"column\": \"Property_Area\",\n      \"properties\": {\n        \"dtype\": \"category\",\n        \"num_unique_values\": 3,\n        \"samples\": [\n          \"Urban\",\n          \"Rural\"\n        ],\n        \"semantic_type\": \"\",\n        \"description\": \"\"\n      }\n    },\n    {\n      \"column\": \"Loan_Status\",\n      \"properties\": {\n        \"dtype\": \"category\",\n        \"num_unique_values\": 2,\n        \"samples\": [\n          \"N\",\n          \"Y\"\n        ],\n        \"semantic_type\": \"\",\n        \"description\": \"\"\n      }\n    }\n  ]\n}"
            }
          },
          "metadata": {},
          "execution_count": 26
        }
      ]
    },
    {
      "cell_type": "markdown",
      "source": [
        "# Task 2"
      ],
      "metadata": {
        "id": "wHZbP4Oz5WZ4"
      }
    },
    {
      "cell_type": "markdown",
      "source": [
        "**Handling Missing Values**"
      ],
      "metadata": {
        "id": "wyUa7l6zhunZ"
      }
    },
    {
      "cell_type": "code",
      "source": [
        "def check_missing_values(df, df_name):\n",
        "    # Check and print if the given dataframe has missing values.\n",
        "    if df.isnull().sum().sum() > 0:\n",
        "        print(f\"Data in {df_name} contains missing values.\")\n",
        "    else:\n",
        "        print(f\"No missing values found in {df_name}.\")\n",
        "\n",
        "# Define the single dataframe and its name\n",
        "df_name = 'AFS data'\n",
        "df = combined_df\n",
        "\n",
        "# Apply the function to the dataframe\n",
        "check_missing_values(df, df_name)\n"
      ],
      "metadata": {
        "colab": {
          "base_uri": "https://localhost:8080/"
        },
        "id": "6qpUTe1rfkUb",
        "outputId": "8f797bf6-13a5-4e2e-d444-efbc1bbe5607"
      },
      "execution_count": null,
      "outputs": [
        {
          "output_type": "stream",
          "name": "stdout",
          "text": [
            "No missing values found in AFS data.\n"
          ]
        }
      ]
    },
    {
      "cell_type": "markdown",
      "source": [
        "**Removing Duplicates**"
      ],
      "metadata": {
        "id": "OVf-lZdfiEv3"
      }
    },
    {
      "cell_type": "code",
      "source": [
        "def remove_duplicates(df, df_name):\n",
        "    # Remove duplicates from a dataframe and print the operation.\n",
        "    initial_count = len(df)\n",
        "    df.drop_duplicates(inplace=True)\n",
        "    final_count = len(df)\n",
        "    print(f\"Duplicates removed from {df_name}: {initial_count - final_count} duplicates found.\")\n",
        "\n",
        "# Define the single dataframe and its name\n",
        "df_name = 'AFS data'\n",
        "df = combined_df\n",
        "\n",
        "# Apply the function to the dataframe\n",
        "remove_duplicates(df, df_name)\n"
      ],
      "metadata": {
        "colab": {
          "base_uri": "https://localhost:8080/"
        },
        "id": "8Vjs9YTBiIpp",
        "outputId": "83c3eac8-5c94-4dcb-c448-83a9628e0a75"
      },
      "execution_count": null,
      "outputs": [
        {
          "output_type": "stream",
          "name": "stdout",
          "text": [
            "Duplicates removed from AFS data: 3 duplicates found.\n"
          ]
        }
      ]
    },
    {
      "cell_type": "markdown",
      "source": [
        "**Handling Outliers**"
      ],
      "metadata": {
        "id": "olP6Q_1vigMs"
      }
    },
    {
      "cell_type": "code",
      "source": [
        "def remove_outliers(df, df_name):\n",
        "    # Select only numeric columns for quantile calculation\n",
        "    numeric_df = df.select_dtypes(include=[np.number])\n",
        "\n",
        "    if not numeric_df.empty:\n",
        "        Q1 = numeric_df.quantile(0.25)\n",
        "        Q3 = numeric_df.quantile(0.75)\n",
        "        IQR = Q3 - Q1\n",
        "\n",
        "        initial_count = len(df)\n",
        "        # Filter out the outliers using conditions applied only on numeric columns\n",
        "        filter_condition = ((numeric_df < (Q1 - 1.5 * IQR)) | (numeric_df > (Q3 + 1.5 * IQR)))\n",
        "        df = df[~filter_condition.any(axis=1)]\n",
        "        final_count = len(df)\n",
        "\n",
        "        print(f\"Outliers removed from {df_name}: {initial_count - final_count} outliers removed.\")\n",
        "    else:\n",
        "        print(f\"No numeric data to process in {df_name}.\")\n",
        "    return df\n",
        "\n",
        "# Define the single dataframe and its name\n",
        "df_name = 'AFS data'\n",
        "df = combined_df\n",
        "# Apply the function to the dataframe\n",
        "df = remove_outliers(df, df_name)\n"
      ],
      "metadata": {
        "colab": {
          "base_uri": "https://localhost:8080/"
        },
        "id": "rTO62wCzihB7",
        "outputId": "6baeb997-3468-4e8a-b9c9-8e1b8906334f"
      },
      "execution_count": null,
      "outputs": [
        {
          "output_type": "stream",
          "name": "stdout",
          "text": [
            "Outliers removed from AFS data: 155 outliers removed.\n"
          ]
        }
      ]
    },
    {
      "cell_type": "markdown",
      "source": [
        "**Exploratory Data Analysis (EDA)**"
      ],
      "metadata": {
        "id": "OQgyVSk1knpA"
      }
    },
    {
      "cell_type": "code",
      "source": [
        "import matplotlib.pyplot as plt\n",
        "import seaborn as sns\n",
        "\n",
        "# Set visualization style\n",
        "sns.set(style=\"whitegrid\")\n",
        "\n",
        "def analyze_loan_data(loan_df, df_name):\n",
        "    print(f\"Descriptive Analysis for {df_name}\")\n",
        "\n",
        "    # Handle missing values and convert appropriate columns to numeric\n",
        "    for column in loan_df.columns:\n",
        "        if loan_df[column].dtype == 'object':\n",
        "            try:\n",
        "                loan_df[column] = pd.to_numeric(loan_df[column], errors='raise')\n",
        "            except ValueError:\n",
        "                loan_df[column] = loan_df[column].astype('category')\n",
        "\n",
        "    # Fill missing numeric values with the median\n",
        "    loan_df = loan_df.apply(lambda x: x.fillna(x.median()) if x.dtype in ['float64', 'int64'] else x)\n",
        "\n",
        "    # Fill missing categorical values with the mode\n",
        "    for column in loan_df.select_dtypes(include=['category']).columns:\n",
        "        loan_df[column].fillna(loan_df[column].mode()[0], inplace=True)\n",
        "\n",
        "    # Total and Average Amount Loaned\n",
        "    total_loaned = loan_df['LoanAmount'].sum()\n",
        "    average_loaned = loan_df['LoanAmount'].mean()\n",
        "    print(f\"Total Amount Loaned: ${total_loaned:,.2f}\")\n",
        "    print(f\"Average Amount Loaned: ${average_loaned:,.2f}\")\n",
        "\n",
        "    # Average Loan Term\n",
        "    average_loan_term = loan_df['Loan_Amount_Term'].mean()\n",
        "    print(f\"Average Loan Term: {average_loan_term} months\")\n",
        "\n",
        "    # Total number of applicants by Approval Status and Gender\n",
        "    approval_gender_counts = loan_df.groupby(['Loan_Status', 'Gender']).size().unstack(fill_value=0)\n",
        "    print(approval_gender_counts)\n",
        "\n",
        "    # Plotting Approval Status by Gender with custom colors\n",
        "    fig, ax = plt.subplots()\n",
        "    approval_gender_counts.plot(kind='bar', ax=ax, color=['#5DADE2', '#F39C12'])\n",
        "    ax.set_title('Loan Approval Status by Gender')\n",
        "    ax.set_ylabel('Number of Applicants')\n",
        "    plt.show()\n",
        "\n",
        "    # Maximum and Minimum Amounts Loaned\n",
        "    max_loaned = loan_df['LoanAmount'].max()\n",
        "    min_loaned = loan_df['LoanAmount'].min()\n",
        "    print(f\"Maximum Loaned Amount: ${max_loaned:,.2f}\")\n",
        "    print(f\"Minimum Loaned Amount: ${min_loaned:,.2f}\")\n",
        "\n",
        "    # Plot for Loan Amounts with custom colors\n",
        "    fig, ax = plt.subplots()\n",
        "    sns.boxplot(data=loan_df['LoanAmount'], ax=ax, color='#D4E6F1')\n",
        "    ax.set_title('Box Plot of Loan Amounts')\n",
        "    ax.set_ylabel('Amount Loaned ($)')\n",
        "    plt.show()\n",
        "\n",
        "    # Percentage of Self-Employed Approved Loans\n",
        "    approved_loans = loan_df[loan_df['Loan_Status'] == 'Y']\n",
        "    self_employed_approved = approved_loans[approved_loans['Self_Employed'] == 'Yes']\n",
        "    percentage_self_employed_approved = (len(self_employed_approved) / len(approved_loans)) * 100 if len(approved_loans) > 0 else 0\n",
        "    print(f\"Percentage of Self-Employed with Approved Loans: {percentage_self_employed_approved:.2f}%\")\n",
        "\n",
        "    # Plot for Approved Loans by Employment Status with custom colors\n",
        "    fig, ax = plt.subplots()\n",
        "    sns.countplot(x='Self_Employed', data=approved_loans)\n",
        "    ax.set_title('Approved Loans by Employment Status')\n",
        "    ax.set_xlabel('Employment Status')\n",
        "    ax.set_ylabel('Count')\n",
        "    plt.show()\n",
        "\n",
        "\n",
        "analyze_loan_data(combined_df, 'AFS Data')\n"
      ],
      "metadata": {
        "colab": {
          "base_uri": "https://localhost:8080/",
          "height": 1000
        },
        "id": "yVmsQ0YQmiDq",
        "outputId": "5405d8a6-ab8e-472f-90c5-6669029d5aba"
      },
      "execution_count": null,
      "outputs": [
        {
          "output_type": "stream",
          "name": "stdout",
          "text": [
            "Descriptive Analysis for AFS Data\n",
            "Total Amount Loaned: $95,164.00\n",
            "Average Amount Loaned: $148.23\n",
            "Average Loan Term: 334.4392523364486 months\n",
            "Gender       Female  Male\n",
            "Loan_Status              \n",
            "N                37   161\n",
            "Y                80   364\n"
          ]
        },
        {
          "output_type": "display_data",
          "data": {
            "text/plain": [
              "<Figure size 640x480 with 1 Axes>"
            ],
            "image/png": "[encoded data removed]"
          },
          "metadata": {}
        },
        {
          "output_type": "stream",
          "name": "stdout",
          "text": [
            "Maximum Loaned Amount: $700.00\n",
            "Minimum Loaned Amount: $9.00\n"
          ]
        },
        {
          "output_type": "display_data",
          "data": {
            "text/plain": [
              "<Figure size 640x480 with 1 Axes>"
            ],
            "image/png": "[encoded data removed]"
          },
          "metadata": {}
        },
        {
          "output_type": "stream",
          "name": "stdout",
          "text": [
            "Percentage of Self-Employed with Approved Loans: 12.61%\n"
          ]
        },
        {
          "output_type": "display_data",
          "data": {
            "text/plain": [
              "<Figure size 640x480 with 1 Axes>"
            ],
            "image/png": "[encoded data removed]"
          },
          "metadata": {}
        }
      ]
    },
    {
      "cell_type": "markdown",
      "source": [
        "**Income Distribution of All Main Applicants**"
      ],
      "metadata": {
        "id": "jcIyRVWVswmd"
      }
    },
    {
      "cell_type": "code",
      "source": [
        "def analyze_applicant_income(loan_df, df_name):\n",
        "    plt.figure(figsize=(10, 6))\n",
        "\n",
        "    # Convert 'ApplicantIncome' to a numeric type, coerce errors to NaN\n",
        "    loan_df['ApplicantIncome'] = pd.to_numeric(loan_df['ApplicantIncome'], errors='coerce')\n",
        "\n",
        "    sns.histplot(loan_df['ApplicantIncome'].dropna(), kde=True, color='blue')\n",
        "    plt.title(f'Distribution of Main Applicants\\' Income for {df_name}')\n",
        "    plt.xlabel('Income')\n",
        "    plt.ylabel('Frequency')\n",
        "\n",
        "    # Calculate mean and standard deviation on the numeric, non-NaN data\n",
        "    mean_income = loan_df['ApplicantIncome'].mean()\n",
        "    std_income = loan_df['ApplicantIncome'].std()\n",
        "    print('MEAN INCOME = ',mean_income, ', STANDARD DEVIATION = ',std_income)\n",
        "    plt.axvline(mean_income, color='red', linestyle='--', label=f'Mean: ${mean_income:,.2f}')\n",
        "    plt.axvline(mean_income + std_income, color='green', linestyle='--', label=f'1 Standard Deviation: ${std_income:,.2f}')\n",
        "    plt.axvline(mean_income - std_income, color='green', linestyle='--')\n",
        "    plt.legend()\n",
        "\n",
        "    plt.show()\n",
        "\n",
        "# Call the function with DataFrames\n",
        "analyze_applicant_income(combined_df, 'AFS Data')"
      ],
      "metadata": {
        "colab": {
          "base_uri": "https://localhost:8080/",
          "height": 591
        },
        "id": "M7Tev7QOrPkP",
        "outputId": "7323386b-21fc-4a2d-8113-61eeb4ef9dbe"
      },
      "execution_count": null,
      "outputs": [
        {
          "output_type": "stream",
          "name": "stdout",
          "text": [
            "MEAN INCOME =  5370.386292834891 , STANDARD DEVIATION =  6035.008000801144\n"
          ]
        },
        {
          "output_type": "display_data",
          "data": {
            "text/plain": [
              "<Figure size 1000x600 with 1 Axes>"
            ],
            "image/png": "[encoded data removed]"
          },
          "metadata": {}
        }
      ]
    },
    {
      "cell_type": "markdown",
      "source": [
        "**Top Ten Applicants by Loan Amount**"
      ],
      "metadata": {
        "id": "LDAo5YK7uJbN"
      }
    },
    {
      "cell_type": "code",
      "source": [
        "def top_ten_applicants_by_loan_amount(loan_df,file_name):\n",
        "    print('Top Ten Applicants by Loan Amount',file_name)\n",
        "    top_ten = loan_df.nlargest(10, 'LoanAmount')\n",
        "    print(top_ten[['Loan_ID', 'ApplicantIncome', 'LoanAmount']])\n",
        "\n",
        "    # Call the function with  DataFrame\n",
        "top_ten_applicants_by_loan_amount(combined_df, 'AFS Data')"
      ],
      "metadata": {
        "colab": {
          "base_uri": "https://localhost:8080/"
        },
        "id": "HPuo2hOqrX9A",
        "outputId": "49aa43db-5e4a-4cd5-bbfd-b6ad2e633099"
      },
      "execution_count": null,
      "outputs": [
        {
          "output_type": "stream",
          "name": "stdout",
          "text": [
            "Top Ten Applicants by Loan Amount AFS Data\n",
            "     Loan_ID  ApplicantIncome  LoanAmount\n",
            "171     1585            51763         700\n",
            "130     1469            20166         650\n",
            "155     1536            39999         600\n",
            "592     2813            19484         600\n",
            "369     2191            19730         570\n",
            "518     2547            18333         500\n",
            "635     2959            12000         496\n",
            "177     1610             5516         495\n",
            "333     2101            63337         490\n",
            "308     1996            20233         480\n"
          ]
        }
      ]
    },
    {
      "cell_type": "markdown",
      "source": [
        "**Distribution of Property Types Among Loan Applicants**\n",
        "\n",
        "\n"
      ],
      "metadata": {
        "id": "DzGcbrL1uRDR"
      }
    },
    {
      "cell_type": "code",
      "source": [
        "def property_distribution(loan_df,file_name):\n",
        "    print('Distribution of Property Types For',file_name)\n",
        "\n",
        "    plt.figure(figsize=(8, 6))\n",
        "    sns.countplot(x='Property_Area', data=loan_df)\n",
        "    plt.title('Distribution of Property Types')\n",
        "    plt.xlabel('Property Type')\n",
        "    plt.ylabel('Number of Applications')\n",
        "    plt.show()\n",
        "\n",
        "  # Call the function with  DataFrame\n",
        "property_distribution(combined_df, 'AFS Data')"
      ],
      "metadata": {
        "colab": {
          "base_uri": "https://localhost:8080/"
        },
        "id": "ugxi9kaPrY9q",
        "outputId": "73211c15-d027-4500-9bd5-a226c41b775e"
      },
      "execution_count": null,
      "outputs": [
        {
          "output_type": "stream",
          "name": "stdout",
          "text": [
            "Distribution of Property Types For AFS Data\n"
          ]
        },
        {
          "output_type": "display_data",
          "data": {
            "text/plain": [
              "<Figure size 800x600 with 1 Axes>"
            ],
            "image/png": "[encoded data removed]"
          },
          "metadata": {}
        }
      ]
    },
    {
      "cell_type": "code",
      "source": [
        "\n",
        "# Step 1: Install necessary libraries\n",
        "!pip install pandas openpyxl\n",
        "\n",
        "# Step 2: Import libraries\n",
        "import pandas as pd\n",
        "from google.colab import files\n",
        "\n",
        "\n",
        "df = pd.DataFrame(combined_df)\n",
        "\n",
        "# Step 4: Save the DataFrame to an Excel file\n",
        "file_name = 'Afs_data.xlsx'\n",
        "df.to_excel(file_name, index=False)\n",
        "\n",
        "# Step 5: Download the file\n",
        "files.download(file_name)\n"
      ],
      "metadata": {
        "colab": {
          "base_uri": "https://localhost:8080/"
        },
        "id": "Cbh48KV59FU8",
        "outputId": "cb92dc46-6f33-4699-9c53-c14c83aef3a0"
      },
      "execution_count": null,
      "outputs": [
        {
          "output_type": "stream",
          "name": "stdout",
          "text": [
            "Requirement already satisfied: pandas in /usr/local/lib/python3.10/dist-packages (2.0.3)\n",
            "Requirement already satisfied: openpyxl in /usr/local/lib/python3.10/dist-packages (3.1.3)\n",
            "Requirement already satisfied: python-dateutil>=2.8.2 in /usr/local/lib/python3.10/dist-packages (from pandas) (2.8.2)\n",
            "Requirement already satisfied: pytz>=2020.1 in /usr/local/lib/python3.10/dist-packages (from pandas) (2023.4)\n",
            "Requirement already satisfied: tzdata>=2022.1 in /usr/local/lib/python3.10/dist-packages (from pandas) (2024.1)\n",
            "Requirement already satisfied: numpy>=1.21.0 in /usr/local/lib/python3.10/dist-packages (from pandas) (1.25.2)\n",
            "Requirement already satisfied: et-xmlfile in /usr/local/lib/python3.10/dist-packages (from openpyxl) (1.1.0)\n",
            "Requirement already satisfied: six>=1.5 in /usr/local/lib/python3.10/dist-packages (from python-dateutil>=2.8.2->pandas) (1.16.0)\n"
          ]
        },
        {
          "output_type": "display_data",
          "data": {
            "text/plain": [
              "<IPython.core.display.Javascript object>"
            ],
            "application/javascript": [
              "\n",
              "    async function download(id, filename, size) {\n",
              "      if (!google.colab.kernel.accessAllowed) {\n",
              "        return;\n",
              "      }\n",
              "      const div = document.createElement('div');\n",
              "      const label = document.createElement('label');\n",
              "      label.textContent = `Downloading \"${filename}\": `;\n",
              "      div.appendChild(label);\n",
              "      const progress = document.createElement('progress');\n",
              "      progress.max = size;\n",
              "      div.appendChild(progress);\n",
              "      document.body.appendChild(div);\n",
              "\n",
              "      const buffers = [];\n",
              "      let downloaded = 0;\n",
              "\n",
              "      const channel = await google.colab.kernel.comms.open(id);\n",
              "      // Send a message to notify the kernel that we're ready.\n",
              "      channel.send({})\n",
              "\n",
              "      for await (const message of channel.messages) {\n",
              "        // Send a message to notify the kernel that we're ready.\n",
              "        channel.send({})\n",
              "        if (message.buffers) {\n",
              "          for (const buffer of message.buffers) {\n",
              "            buffers.push(buffer);\n",
              "            downloaded += buffer.byteLength;\n",
              "            progress.value = downloaded;\n",
              "          }\n",
              "        }\n",
              "      }\n",
              "      const blob = new Blob(buffers, {type: 'application/binary'});\n",
              "      const a = document.createElement('a');\n",
              "      a.href = window.URL.createObjectURL(blob);\n",
              "      a.download = filename;\n",
              "      div.appendChild(a);\n",
              "      a.click();\n",
              "      div.remove();\n",
              "    }\n",
              "  "
            ]
          },
          "metadata": {}
        },
        {
          "output_type": "display_data",
          "data": {
            "text/plain": [
              "<IPython.core.display.Javascript object>"
            ],
            "application/javascript": [
              "download(\"download_31b2801f-6f8c-4b80-9275-66c86d58800c\", \"Afs_data.xlsx\", 40738)"
            ]
          },
          "metadata": {}
        }
      ]
    }
  ]
}